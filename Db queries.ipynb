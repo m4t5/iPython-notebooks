{
 "cells": [
  {
   "cell_type": "markdown",
   "metadata": {},
   "source": [
    "### Sql queries"
   ]
  },
  {
   "cell_type": "markdown",
   "metadata": {},
   "source": [
    "Prerequsites - sudo apt-get install python-mysqldb"
   ]
  },
  {
   "cell_type": "markdown",
   "metadata": {},
   "source": [
    "This notebooks documents my attempt to replicate the analysis of Stats 19 data carried out by West Mids police as written up at https://trafficwmp.wordpress.com/2016/09/09/junction-malfunction-and-a-new-dawn/"
   ]
  },
  {
   "cell_type": "markdown",
   "metadata": {},
   "source": [
    "This query gets the number of incidents involving a bicycle and somebody being killed or seriously injured."
   ]
  },
  {
   "cell_type": "code",
   "execution_count": 16,
   "metadata": {
    "collapsed": false,
    "scrolled": true
   },
   "outputs": [
    {
     "name": "stdout",
     "output_type": "stream",
     "text": [
      "('West Midlands', 'Pedal cycle', 530L)\n"
     ]
    }
   ],
   "source": [
    "'''\n",
    "Example DbConfig.txt file\n",
    "\n",
    "*************\n",
    "[dbconfig]\n",
    "host = localhost\n",
    "user = <user>\n",
    "userpw = <pass>\n",
    "db = dft09-15\n",
    "*************\n",
    "\n",
    "'''\n",
    "\n",
    "import MySQLdb\n",
    "import ConfigParser\n",
    "configParser = ConfigParser.ConfigParser()\n",
    "configParser.readfp(open(\"DbConfig.txt\"))\n",
    "host = configParser.get(\"dbconfig\", \"host\")\n",
    "user = configParser.get(\"dbconfig\", \"user\")\n",
    "userpw = configParser.get(\"dbconfig\", \"userpw\")\n",
    "db = configParser.get(\"dbconfig\", \"db\")\n",
    "\n",
    "db = MySQLdb.connect(host = host, user = user, passwd = userpw, db = db)\n",
    "cursor = db.cursor()\n",
    "\n",
    "sql = ('''\n",
    "       SELECT police_force.label, vehicle_type.vehicle_type, count(*) \n",
    "       FROM accidents a, vehicles v, police_force, vehicle_type, accident_severity\n",
    "       WHERE a.accident_index=v.acc_index \n",
    "           AND a.police_force=police_force.code \n",
    "           AND year(a.date) in (2010,2011,2012,2013,2014) \n",
    "           AND a.accident_severity=accident_severity.code\n",
    "           AND accident_severity.accident_severity in (\"Fatal\",\"Serious\")\n",
    "           AND v.vehicle_type = vehicle_type.code\n",
    "           AND vehicle_type.vehicle_type = \"Pedal Cycle\"\n",
    "           AND v.vehicle_type=vehicle_type.code \n",
    "           AND police_force.label=\"West Midlands\";\n",
    "''')\n",
    "\n",
    "try:\n",
    "    cursor.execute(sql)\n",
    "    results = cursor.fetchall()\n",
    "    for row in results:\n",
    "        print row\n",
    "except Exception as e:\n",
    "    print \"Error; query failed\"\n",
    "    print e\n",
    "\n",
    "db.close()"
   ]
  },
  {
   "cell_type": "markdown",
   "metadata": {
    "collapsed": true
   },
   "source": [
    "This figure of 530 incidents correlates with WM's published figure."
   ]
  },
  {
   "cell_type": "code",
   "execution_count": 18,
   "metadata": {
    "collapsed": false
   },
   "outputs": [
    {
     "name": "stdout",
     "output_type": "stream",
     "text": [
      "(517L,)\n"
     ]
    }
   ],
   "source": [
    "'''\n",
    "Example DbConfig.txt file\n",
    "\n",
    "*************\n",
    "[dbconfig]\n",
    "host = localhost\n",
    "user = <user>\n",
    "userpw = <pass>\n",
    "db = dft09-15\n",
    "*************\n",
    "\n",
    "'''\n",
    "\n",
    "import MySQLdb\n",
    "import ConfigParser\n",
    "configParser = ConfigParser.ConfigParser()\n",
    "configParser.readfp(open(\"DbConfig.txt\"))\n",
    "host = configParser.get(\"dbconfig\", \"host\")\n",
    "user = configParser.get(\"dbconfig\", \"user\")\n",
    "userpw = configParser.get(\"dbconfig\", \"userpw\")\n",
    "db = configParser.get(\"dbconfig\", \"db\")\n",
    "\n",
    "db = MySQLdb.connect(host = host, user = user, passwd = userpw, db = db)\n",
    "cursor = db.cursor()\n",
    "\n",
    "sql = ('''\n",
    "SELECT count(*)\n",
    "FROM accidents a, vehicles v, police_force, vehicle_type, accident_severity\n",
    "WHERE a.accident_index = v.acc_index\n",
    "AND v.vehicle_type = vehicle_type.code\n",
    "AND vehicle_type.vehicle_type = \"Pedal Cycle\"\n",
    "AND a.accident_severity=accident_severity.code\n",
    "AND accident_severity.accident_severity in (\"Fatal\",\"Serious\")\n",
    "AND a.police_force = police_force.code\n",
    "AND police_force.label\n",
    "IN (\n",
    "\"West Midlands\"\n",
    ")\n",
    "AND year( a.date )\n",
    "IN ( 2010, 2011, 2012, 2013, 2014 )\n",
    "and v.acc_index in (\n",
    "SELECT v.acc_index\n",
    "FROM vehicles v, vehicle_type\n",
    "WHERE vehicle_type.vehicle_type <> \"Pedal Cycle\"\n",
    "AND v.vehicle_type = vehicle_type.code\n",
    ")\n",
    ";\n",
    "''')\n",
    "\n",
    "try:\n",
    "    cursor.execute(sql)\n",
    "    results = cursor.fetchall()\n",
    "    for row in results:\n",
    "        print row\n",
    "except Exception as e:\n",
    "    print \"Error; query failed\"\n",
    "    print e\n",
    "\n",
    "db.close()\n"
   ]
  },
  {
   "cell_type": "markdown",
   "metadata": {},
   "source": [
    "517 incidents correlates."
   ]
  }
 ],
 "metadata": {
  "kernelspec": {
   "display_name": "Python 2",
   "language": "python",
   "name": "python2"
  },
  "language_info": {
   "codemirror_mode": {
    "name": "ipython",
    "version": 2
   },
   "file_extension": ".py",
   "mimetype": "text/x-python",
   "name": "python",
   "nbconvert_exporter": "python",
   "pygments_lexer": "ipython2",
   "version": "2.7.6"
  }
 },
 "nbformat": 4,
 "nbformat_minor": 0
}
