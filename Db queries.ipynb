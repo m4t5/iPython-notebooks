{
 "cells": [
  {
   "cell_type": "markdown",
   "metadata": {},
   "source": [
    "### Sql queries"
   ]
  },
  {
   "cell_type": "markdown",
   "metadata": {},
   "source": [
    "Prerequsites - sudo apt-get install python-mysqldb"
   ]
  },
  {
   "cell_type": "code",
   "execution_count": 51,
   "metadata": {
    "collapsed": false
   },
   "outputs": [],
   "source": [
    "import MySQLdb\n",
    "import ConfigParser\n",
    "configParser = ConfigParser.ConfigParser()\n",
    "configParser.readfp(open(\"DbConfig.txt\"))\n",
    "host = configParser.get(\"dbconfig\", \"host\")\n",
    "user = configParser.get(\"dbconfig\", \"user\")\n",
    "userpw = configParser.get(\"dbconfig\", \"userpw\")\n",
    "db = configParser.get(\"dbconfig\", \"db\")\n"
   ]
  },
  {
   "cell_type": "code",
   "execution_count": 52,
   "metadata": {
    "collapsed": false
   },
   "outputs": [
    {
     "name": "stdout",
     "output_type": "stream",
     "text": [
      "Error; query failed\n",
      "(1064, 'You have an error in your SQL syntax; check the manual that corresponds to your MySQL server version for the right syntax to use near \\'\"\\nSELECT vehicle_type.vehicle_type, count( a.accident_index )\\nFROM accidents a, \\' at line 1')\n"
     ]
    }
   ],
   "source": [
    "db = MySQLdb.connect(host = host, user = user, passwd = userpw, db = db)\n",
    "cursor = db.cursor()\n",
    "\n",
    "sql = (\"\"\"\"\n",
    "SELECT vehicle_type.vehicle_type, count( a.accident_index )\n",
    "FROM accidents a, vehicles v, police_force, vehicle_type\n",
    "WHERE v.acc_index\n",
    "IN (\n",
    "\n",
    "SELECT a.accident_index\n",
    "FROM accidents a, vehicles v, police_force, vehicle_type\n",
    "WHERE a.accident_index = v.acc_index\n",
    "AND v.vehicle_type = vehicle_type.code\n",
    "AND v.vehicle_type =1\n",
    ")\n",
    "AND a.accident_index = v.acc_index\n",
    "AND v.vehicle_type = vehicle_type.code\n",
    "AND a.accident_severity\n",
    "IN ( 1, 2 )\n",
    "AND a.police_force = police_force.code\n",
    "AND police_force.label\n",
    "IN (\n",
    "\"West Midlands\"\n",
    ")\n",
    "AND year( a.date )\n",
    "IN ( 2010, 2011, 2012, 2013, 2014 )\n",
    "GROUP BY 1\n",
    "LIMIT 0 , 30;\n",
    "\"\"\"\n",
    ")\n",
    "\n",
    "try:\n",
    "    cursor.execute(sql)\n",
    "    results = cursor.fetcall()\n",
    "    for row in results:\n",
    "        print row\n",
    "except Exception as e:\n",
    "    print \"Error; query failed\"\n",
    "    print e\n",
    "\n",
    "db.close()"
   ]
  },
  {
   "cell_type": "code",
   "execution_count": null,
   "metadata": {
    "collapsed": true
   },
   "outputs": [],
   "source": []
  }
 ],
 "metadata": {
  "kernelspec": {
   "display_name": "Python 2",
   "language": "python",
   "name": "python2"
  },
  "language_info": {
   "codemirror_mode": {
    "name": "ipython",
    "version": 2
   },
   "file_extension": ".py",
   "mimetype": "text/x-python",
   "name": "python",
   "nbconvert_exporter": "python",
   "pygments_lexer": "ipython2",
   "version": "2.7.6"
  }
 },
 "nbformat": 4,
 "nbformat_minor": 0
}
